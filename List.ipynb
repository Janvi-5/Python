{
 "cells": [
  {
   "cell_type": "code",
   "execution_count": 32,
   "id": "9595d284-c2f5-46ea-85e7-fa1526978096",
   "metadata": {},
   "outputs": [
    {
     "name": "stdout",
     "output_type": "stream",
     "text": [
      "[4, 2, 3, 1]\n"
     ]
    }
   ],
   "source": [
    "# 1. Interchange first and last elements in a list\n",
    "def interchange_first_last(lst):\n",
    "    if len(lst) > 1:\n",
    "        lst[0], lst[-1] = lst[-1], lst[0]\n",
    "    return lst\n",
    "\n",
    "my_list = [1, 2, 3, 4]\n",
    "print(interchange_first_last(my_list))\n"
   ]
  },
  {
   "cell_type": "code",
   "execution_count": 35,
   "id": "1cc2fab5-3ef5-4490-9fac-dcf10327be45",
   "metadata": {},
   "outputs": [
    {
     "name": "stdout",
     "output_type": "stream",
     "text": [
      "[3, 2, 1, 4]\n"
     ]
    }
   ],
   "source": [
    "# 2. Swap two elements in a list\n",
    "def swap_elements(lst, idx1, idx2):\n",
    "    lst[idx1], lst[idx2] = lst[idx2], lst[idx1]\n",
    "    return lst\n",
    "\n",
    "my_list = [1, 2, 3, 4]\n",
    "print(swap_elements(my_list, 0, 2))\n"
   ]
  },
  {
   "cell_type": "code",
   "execution_count": 36,
   "id": "c81b3237-2339-4c73-b1e1-9cb77927530e",
   "metadata": {},
   "outputs": [
    {
     "name": "stdout",
     "output_type": "stream",
     "text": [
      "['cherry', 'banana', 'apple']\n"
     ]
    }
   ],
   "source": [
    "# 3. Swap elements in String list\n",
    "def swap_string_elements(lst, idx1, idx2):\n",
    "    lst[idx1], lst[idx2] = lst[idx2], lst[idx1]\n",
    "    return lst\n",
    "\n",
    "my_list = ['apple', 'banana', 'cherry']\n",
    "print(swap_string_elements(my_list, 0, 2))\n"
   ]
  },
  {
   "cell_type": "code",
   "execution_count": 37,
   "id": "0628a2b8-1021-4e46-b37c-3985f58b22b4",
   "metadata": {},
   "outputs": [
    {
     "name": "stdout",
     "output_type": "stream",
     "text": [
      "4\n"
     ]
    }
   ],
   "source": [
    "# 4. Ways to find length of list\n",
    "my_list = [1, 2, 3, 4]\n",
    "print(len(my_list))\n"
   ]
  },
  {
   "cell_type": "code",
   "execution_count": 38,
   "id": "ec5b77ce-cc0f-4ecf-81e9-8e7785fdd523",
   "metadata": {},
   "outputs": [
    {
     "name": "stdout",
     "output_type": "stream",
     "text": [
      "10\n"
     ]
    }
   ],
   "source": [
    "# 5. Maximum of two numbers in Python\n",
    "a, b = 5, 10\n",
    "print(max(a, b))\n"
   ]
  },
  {
   "cell_type": "code",
   "execution_count": 39,
   "id": "787f599e-c393-4163-b2dc-39f8df8fd7c1",
   "metadata": {},
   "outputs": [
    {
     "name": "stdout",
     "output_type": "stream",
     "text": [
      "5\n"
     ]
    }
   ],
   "source": [
    "# 6. Minimum of two numbers in Python\n",
    "a, b = 5, 10\n",
    "print(min(a, b))\n"
   ]
  },
  {
   "cell_type": "code",
   "execution_count": 40,
   "id": "513ebb57-3282-46f3-944e-0eea328005aa",
   "metadata": {},
   "outputs": [
    {
     "name": "stdout",
     "output_type": "stream",
     "text": [
      "True\n",
      "True\n"
     ]
    }
   ],
   "source": [
    "# 7. Ways to check if element exists in list\n",
    "my_list = [1, 2, 3, 4]\n",
    "print(3 in my_list)  # Method 1\n",
    "print(my_list.count(3) > 0)  # Method 2\n"
   ]
  },
  {
   "cell_type": "code",
   "execution_count": 41,
   "id": "d8bc297b-8d2c-4004-b24e-d9a802504033",
   "metadata": {},
   "outputs": [
    {
     "name": "stdout",
     "output_type": "stream",
     "text": [
      "[]\n"
     ]
    }
   ],
   "source": [
    "# 8. Different ways to clear a list in Python\n",
    "my_list = [1, 2, 3, 4]\n",
    "my_list.clear()  # Method 1\n",
    "# OR\n",
    "my_list = []  # Method 2\n",
    "# OR\n",
    "del my_list[:]  # Method 3\n",
    "print(my_list)\n"
   ]
  },
  {
   "cell_type": "code",
   "execution_count": 42,
   "id": "660b4ce0-5eff-4032-b886-ee657f71efce",
   "metadata": {},
   "outputs": [
    {
     "name": "stdout",
     "output_type": "stream",
     "text": [
      "[4, 3, 2, 1]\n",
      "[1, 2, 3, 4]\n"
     ]
    }
   ],
   "source": [
    "# 9. Reversing a List\n",
    "my_list = [1, 2, 3, 4]\n",
    "my_list.reverse()  # Method 1\n",
    "# OR\n",
    "reversed_list = my_list[::-1]  # Method 2\n",
    "print(my_list)\n",
    "print(reversed_list)\n"
   ]
  },
  {
   "cell_type": "code",
   "execution_count": 43,
   "id": "a6b7ed75-0c6f-4514-aa13-c739162d9cdd",
   "metadata": {},
   "outputs": [
    {
     "name": "stdout",
     "output_type": "stream",
     "text": [
      "[1, 2, 3, 4]\n"
     ]
    }
   ],
   "source": [
    "# 10. Cloning or Copying a list\n",
    "my_list = [1, 2, 3, 4]\n",
    "copied_list = my_list.copy()  # Method 1\n",
    "# OR\n",
    "copied_list = list(my_list)  # Method 2\n",
    "# OR\n",
    "copied_list = my_list[:]  # Method 3\n",
    "print(copied_list)\n"
   ]
  },
  {
   "cell_type": "code",
   "execution_count": 44,
   "id": "dd9eb525-fc4c-4ef9-b3a6-3de88204bad5",
   "metadata": {},
   "outputs": [
    {
     "name": "stdout",
     "output_type": "stream",
     "text": [
      "3\n"
     ]
    }
   ],
   "source": [
    "# 11. Count occurrences of an element in a list\n",
    "my_list = [1, 2, 2, 3, 2, 4]\n",
    "count = my_list.count(2)\n",
    "print(count)\n"
   ]
  },
  {
   "cell_type": "code",
   "execution_count": 45,
   "id": "08e666a7-5a76-40ec-9bc4-7906eaadc3b1",
   "metadata": {},
   "outputs": [
    {
     "name": "stdout",
     "output_type": "stream",
     "text": [
      "Sum: 10\n",
      "Average: 2.5\n"
     ]
    }
   ],
   "source": [
    "# 12. Program to find sum and average of List in Python\n",
    "my_list = [1, 2, 3, 4]\n",
    "sum_list = sum(my_list)\n",
    "average = sum_list / len(my_list)\n",
    "print(\"Sum:\", sum_list)\n",
    "print(\"Average:\", average)\n"
   ]
  },
  {
   "cell_type": "code",
   "execution_count": 46,
   "id": "255f3efc-2afb-4c21-845f-916491069695",
   "metadata": {},
   "outputs": [
    {
     "name": "stdout",
     "output_type": "stream",
     "text": [
      "21\n"
     ]
    }
   ],
   "source": [
    "# 13. Sum of number digits in List\n",
    "my_list = [12, 34, 56]\n",
    "sum_of_digits = sum(sum(int(digit) for digit in str(num)) for num in my_list)\n",
    "print(sum_of_digits)\n"
   ]
  },
  {
   "cell_type": "code",
   "execution_count": 47,
   "id": "1137b87f-4829-4a43-ac07-f38e6894d2eb",
   "metadata": {},
   "outputs": [
    {
     "name": "stdout",
     "output_type": "stream",
     "text": [
      "24\n"
     ]
    }
   ],
   "source": [
    "# 14. Multiply all numbers in the list\n",
    "from functools import reduce\n",
    "my_list = [1, 2, 3, 4]\n",
    "product = reduce(lambda x, y: x * y, my_list)\n",
    "print(product)\n"
   ]
  },
  {
   "cell_type": "code",
   "execution_count": 48,
   "id": "da7d2f95-7501-4877-8de4-531811b949e8",
   "metadata": {},
   "outputs": [
    {
     "name": "stdout",
     "output_type": "stream",
     "text": [
      "1\n"
     ]
    }
   ],
   "source": [
    "# 15. Program to find smallest number in a list\n",
    "my_list = [1, 2, 3, 4]\n",
    "print(min(my_list))\n"
   ]
  },
  {
   "cell_type": "code",
   "execution_count": 49,
   "id": "c41f97cd-5d39-4f36-94d3-af3a99cc446d",
   "metadata": {},
   "outputs": [
    {
     "name": "stdout",
     "output_type": "stream",
     "text": [
      "4\n"
     ]
    }
   ],
   "source": [
    "# 16. Program to find largest number in a list\n",
    "my_list = [1, 2, 3, 4]\n",
    "print(max(my_list))\n"
   ]
  },
  {
   "cell_type": "code",
   "execution_count": 50,
   "id": "0567ba4a-96cf-4970-801d-cf7022ecde0f",
   "metadata": {},
   "outputs": [
    {
     "name": "stdout",
     "output_type": "stream",
     "text": [
      "3\n"
     ]
    }
   ],
   "source": [
    "# 17. Program to find second largest number in a list\n",
    "my_list = [1, 2, 3, 4]\n",
    "my_list.remove(max(my_list))\n",
    "second_largest = max(my_list)\n",
    "print(second_largest)\n"
   ]
  },
  {
   "cell_type": "code",
   "execution_count": 51,
   "id": "0cded762-c327-45ed-8126-5651566ef7b9",
   "metadata": {},
   "outputs": [
    {
     "name": "stdout",
     "output_type": "stream",
     "text": [
      "[2, 4]\n"
     ]
    }
   ],
   "source": [
    "# 18. Program to print even numbers in a list\n",
    "my_list = [1, 2, 3, 4, 5]\n",
    "even_numbers = [num for num in my_list if num % 2 == 0]\n",
    "print(even_numbers)\n"
   ]
  },
  {
   "cell_type": "code",
   "execution_count": 52,
   "id": "02dd6b64-22ec-423c-bef4-6c5c40cb0a4b",
   "metadata": {},
   "outputs": [
    {
     "name": "stdout",
     "output_type": "stream",
     "text": [
      "[1, 3, 5]\n"
     ]
    }
   ],
   "source": [
    "# 19. Program to print odd numbers in a List\n",
    "my_list = [1, 2, 3, 4, 5]\n",
    "odd_numbers = [num for num in my_list if num % 2 != 0]\n",
    "print(odd_numbers)\n"
   ]
  },
  {
   "cell_type": "code",
   "execution_count": 53,
   "id": "e0c570f0-0285-4a45-957a-eafd6dd0e7fa",
   "metadata": {},
   "outputs": [
    {
     "name": "stdout",
     "output_type": "stream",
     "text": [
      "[1, 3, 5, 7, 9]\n"
     ]
    }
   ],
   "source": [
    "# 20. Program to print all even numbers in a range\n",
    "start, end = 1, 10\n",
    "odd_numbers = [num for num in range(start, end+1) if num % 2 != 0]\n",
    "print(odd_numbers)\n"
   ]
  },
  {
   "cell_type": "code",
   "execution_count": 54,
   "id": "cba3d85b-1f3a-4b6b-8a4b-ac3f14157fa9",
   "metadata": {},
   "outputs": [
    {
     "name": "stdout",
     "output_type": "stream",
     "text": [
      "[1, 3, 5, 7, 9]\n"
     ]
    }
   ],
   "source": [
    "# 21. Program to print all odd numbers in a range\n",
    "start, end = 1, 10\n",
    "odd_numbers = [num for num in range(start, end+1) if num % 2 != 0]\n",
    "print(odd_numbers)\n"
   ]
  },
  {
   "cell_type": "code",
   "execution_count": 55,
   "id": "f3246ea3-ffd5-4db2-9618-ad4b0416482e",
   "metadata": {},
   "outputs": [
    {
     "name": "stdout",
     "output_type": "stream",
     "text": [
      "Even count: 2\n",
      "Odd count: 3\n"
     ]
    }
   ],
   "source": [
    "# 22. Program to count Even and Odd numbers in a List\n",
    "my_list = [1, 2, 3, 4, 5]\n",
    "even_count = sum(1 for num in my_list if num % 2 == 0)\n",
    "odd_count = len(my_list) - even_count\n",
    "print(\"Even count:\", even_count)\n",
    "print(\"Odd count:\", odd_count)\n"
   ]
  },
  {
   "cell_type": "code",
   "execution_count": 56,
   "id": "fc4843d6-6f75-4de9-80a3-607e7dc2e984",
   "metadata": {},
   "outputs": [
    {
     "name": "stdout",
     "output_type": "stream",
     "text": [
      "[2, 3, 5]\n"
     ]
    }
   ],
   "source": [
    "# 23. Program to print positive numbers in a list\n",
    "my_list = [-1, 2, 3, -4, 5]\n",
    "positive_numbers = [num for num in my_list if num > 0]\n",
    "print(positive_numbers)\n"
   ]
  },
  {
   "cell_type": "code",
   "execution_count": 57,
   "id": "b1b32937-438b-4eee-bb5a-8483dce261f9",
   "metadata": {},
   "outputs": [
    {
     "name": "stdout",
     "output_type": "stream",
     "text": [
      "[-1, -4]\n"
     ]
    }
   ],
   "source": [
    "# 24. Program to print negative numbers in a list\n",
    "my_list = [-1, 2, 3, -4, 5]\n",
    "negative_numbers = [num for num in my_list if num < 0]\n",
    "print(negative_numbers)\n"
   ]
  },
  {
   "cell_type": "code",
   "execution_count": 58,
   "id": "f8a5c654-b801-49a9-832e-75f1b13b8729",
   "metadata": {},
   "outputs": [
    {
     "name": "stdout",
     "output_type": "stream",
     "text": [
      "[1, 2, 3, 4, 5]\n"
     ]
    }
   ],
   "source": [
    "# 25. Program to print all positive numbers in a range\n",
    "start, end = -5, 5\n",
    "positive_numbers = [num for num in range(start, end+1) if num > 0]\n",
    "print(positive_numbers)\n"
   ]
  },
  {
   "cell_type": "code",
   "execution_count": 59,
   "id": "7c644b85-6a69-4ec9-a6fd-7a7406e248c3",
   "metadata": {},
   "outputs": [
    {
     "name": "stdout",
     "output_type": "stream",
     "text": [
      "[-5, -4, -3, -2, -1]\n"
     ]
    }
   ],
   "source": [
    "# 26. Program to print all negative numbers in a range\n",
    "start, end = -5, 5\n",
    "negative_numbers = [num for num in range(start, end+1) if num < 0]\n",
    "print(negative_numbers)\n"
   ]
  },
  {
   "cell_type": "code",
   "execution_count": 60,
   "id": "fdaea281-f93d-4a00-bc95-89e529aa2b12",
   "metadata": {},
   "outputs": [
    {
     "name": "stdout",
     "output_type": "stream",
     "text": [
      "Positive count: 2\n",
      "Negative count: 3\n"
     ]
    }
   ],
   "source": [
    "# 27. Program to count positive and negative numbers in a list\n",
    "my_list = [-1, 2, -3, 4, -5]\n",
    "positive_count = sum(1 for num in my_list if num > 0)\n",
    "negative_count = len(my_list) - positive_count\n",
    "print(\"Positive count:\", positive_count)\n",
    "print(\"Negative count:\", negative_count)\n"
   ]
  },
  {
   "cell_type": "code",
   "execution_count": 61,
   "id": "16e0afee-8458-4ead-8961-7c3b4bdd3e03",
   "metadata": {},
   "outputs": [
    {
     "name": "stdout",
     "output_type": "stream",
     "text": [
      "[1, 3, 5]\n"
     ]
    }
   ],
   "source": [
    "# 28. Remove multiple elements from a list in Python\n",
    "my_list = [1, 2, 3, 4, 5]\n",
    "elements_to_remove = [2, 4]\n",
    "my_list = [num for num in my_list if num not in elements_to_remove]\n",
    "print(my_list)\n"
   ]
  },
  {
   "cell_type": "code",
   "execution_count": 62,
   "id": "17e4068c-2901-4826-a9ea-47febde24ebf",
   "metadata": {},
   "outputs": [
    {
     "name": "stdout",
     "output_type": "stream",
     "text": [
      "[(1, 2), (3, 4)]\n"
     ]
    }
   ],
   "source": [
    "# 29. Remove empty tuples from a list\n",
    "my_list = [(1, 2), (), (3, 4), ()]\n",
    "my_list = [t for t in my_list if t]\n",
    "print(my_list)\n"
   ]
  },
  {
   "cell_type": "code",
   "execution_count": 63,
   "id": "12ccee40-a465-488e-9616-6bbea01e00a4",
   "metadata": {},
   "outputs": [
    {
     "name": "stdout",
     "output_type": "stream",
     "text": [
      "[1, 4]\n"
     ]
    }
   ],
   "source": [
    "# 30. Program to print duplicates from a list of integers\n",
    "my_list = [1, 2, 3, 4, 4, 5, 6, 1]\n",
    "duplicates = [item for item in set(my_list) if my_list.count(item) > 1]\n",
    "print(duplicates)\n"
   ]
  }
 ],
 "metadata": {
  "kernelspec": {
   "display_name": "Python 3 (ipykernel)",
   "language": "python",
   "name": "python3"
  },
  "language_info": {
   "codemirror_mode": {
    "name": "ipython",
    "version": 3
   },
   "file_extension": ".py",
   "mimetype": "text/x-python",
   "name": "python",
   "nbconvert_exporter": "python",
   "pygments_lexer": "ipython3",
   "version": "3.12.7"
  }
 },
 "nbformat": 4,
 "nbformat_minor": 5
}
