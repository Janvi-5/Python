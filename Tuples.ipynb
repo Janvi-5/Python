{
 "cells": [
  {
   "cell_type": "code",
   "execution_count": 2,
   "id": "15f03567-7ec2-4788-bbf6-c7d4b81677e4",
   "metadata": {},
   "outputs": [
    {
     "name": "stdout",
     "output_type": "stream",
     "text": [
      "Size of tuple: 4\n"
     ]
    }
   ],
   "source": [
    "# 1. Find the size of a Tuple\n",
    "my_tuple = (1, 2, 3, 4)\n",
    "size = len(my_tuple)\n",
    "print(\"Size of tuple:\", size)"
   ]
  },
  {
   "cell_type": "code",
   "execution_count": 4,
   "id": "17165758-0570-4115-93a5-9da644828812",
   "metadata": {},
   "outputs": [
    {
     "name": "stdout",
     "output_type": "stream",
     "text": [
      "Minimum K elements: [4, 10, 20]\n",
      "Maximum K elements: [20, 45, 99]\n"
     ]
    }
   ],
   "source": [
    "# 2. Maximum and Minimum K elements in Tuple\n",
    "my_tuple = (10, 20, 4, 45, 99)\n",
    "K = 3\n",
    "sorted_tuple = sorted(my_tuple)\n",
    "min_k_elements = sorted_tuple[:K]\n",
    "max_k_elements = sorted_tuple[-K:]\n",
    "print(\"Minimum K elements:\", min_k_elements)\n",
    "print(\"Maximum K elements:\", max_k_elements)"
   ]
  },
  {
   "cell_type": "code",
   "execution_count": 6,
   "id": "6c634f01-0a48-4d84-a253-5163147a9d0f",
   "metadata": {},
   "outputs": [
    {
     "name": "stdout",
     "output_type": "stream",
     "text": [
      "List of tuples (number, cube): [(1, 1), (2, 8), (3, 27), (4, 64), (5, 125)]\n"
     ]
    }
   ],
   "source": [
    "# 3. Create a list of tuples from given list having number and its cube in each tuple\n",
    "numbers = [1, 2, 3, 4, 5]\n",
    "cubed_tuples = [(num, num**3) for num in numbers]\n",
    "print(\"List of tuples (number, cube):\", cubed_tuples)\n"
   ]
  },
  {
   "cell_type": "code",
   "execution_count": 7,
   "id": "649dd45f-7150-43d1-b40e-32413722beb0",
   "metadata": {},
   "outputs": [
    {
     "name": "stdout",
     "output_type": "stream",
     "text": [
      "List after adding tuple: [1, 2, 3, (4, 5, 6)]\n",
      "Tuple from list: (1, 2, 3, (4, 5, 6))\n"
     ]
    }
   ],
   "source": [
    "# 4. Adding Tuple to List and vice-versa\n",
    "my_list = [1, 2, 3]\n",
    "my_tuple = (4, 5, 6)\n",
    "my_list.append(my_tuple)\n",
    "print(\"List after adding tuple:\", my_list)\n",
    "\n",
    "my_new_tuple = tuple(my_list)\n",
    "print(\"Tuple from list:\", my_new_tuple)\n"
   ]
  },
  {
   "cell_type": "code",
   "execution_count": 8,
   "id": "84e0d279-ccac-44c8-bdf1-8f3579e15f86",
   "metadata": {},
   "outputs": [
    {
     "name": "stdout",
     "output_type": "stream",
     "text": [
      "Sum of tuple elements: 10\n"
     ]
    }
   ],
   "source": [
    "# 5. Sum of tuple elements\n",
    "my_tuple = (1, 2, 3, 4)\n",
    "total = sum(my_tuple)\n",
    "print(\"Sum of tuple elements:\", total)\n"
   ]
  },
  {
   "cell_type": "code",
   "execution_count": 9,
   "id": "5f9078ef-e160-459f-9d98-bcac0e32bdce",
   "metadata": {},
   "outputs": [
    {
     "name": "stdout",
     "output_type": "stream",
     "text": [
      "Tuple with modulo: (3, 6, 2, 5)\n"
     ]
    }
   ],
   "source": [
    "# 6. Modulo of tuple elements\n",
    "my_tuple = (10, 20, 30, 40)\n",
    "mod_value = 7\n",
    "mod_tuple = tuple(x % mod_value for x in my_tuple)\n",
    "print(\"Tuple with modulo:\", mod_tuple)\n"
   ]
  },
  {
   "cell_type": "code",
   "execution_count": 10,
   "id": "459ec142-1a53-425e-abe8-a5a198ae1045",
   "metadata": {},
   "outputs": [
    {
     "name": "stdout",
     "output_type": "stream",
     "text": [
      "Row-wise sums: [6, 15, 24]\n"
     ]
    }
   ],
   "source": [
    "# 7. Row-wise element Addition in Tuple Matrix\n",
    "matrix = [(1, 2, 3), (4, 5, 6), (7, 8, 9)]\n",
    "row_sums = [sum(row) for row in matrix]\n",
    "print(\"Row-wise sums:\", row_sums)\n"
   ]
  },
  {
   "cell_type": "code",
   "execution_count": 11,
   "id": "f4c9058d-02a1-4941-81f6-b45a7cde33da",
   "metadata": {},
   "outputs": [
    {
     "name": "stdout",
     "output_type": "stream",
     "text": [
      "Updated tuple list: [(2, 3), (4, 5), (6, 7)]\n"
     ]
    }
   ],
   "source": [
    "# 8. Update each element in tuple list\n",
    "tuple_list = [(1, 2), (3, 4), (5, 6)]\n",
    "updated_list = [(x+1, y+1) for (x, y) in tuple_list]\n",
    "print(\"Updated tuple list:\", updated_list)\n"
   ]
  },
  {
   "cell_type": "code",
   "execution_count": 12,
   "id": "eaaa53f9-34f0-4e55-b792-c9bc41aad882",
   "metadata": {},
   "outputs": [
    {
     "name": "stdout",
     "output_type": "stream",
     "text": [
      "Adjacent elements multiplied: (2, 6, 12)\n"
     ]
    }
   ],
   "source": [
    "# 9. Multiply Adjacent elements\n",
    "my_tuple = (1, 2, 3, 4)\n",
    "multiplied_elements = tuple(my_tuple[i] * my_tuple[i+1] for i in range(len(my_tuple)-1))\n",
    "print(\"Adjacent elements multiplied:\", multiplied_elements)\n"
   ]
  },
  {
   "cell_type": "code",
   "execution_count": 13,
   "id": "86310911-7c24-4281-af45-f59ba5f9b526",
   "metadata": {},
   "outputs": [
    {
     "name": "stdout",
     "output_type": "stream",
     "text": [
      "Grouped tuples: {1: [(1, 2), (1, 3)], 2: [(2, 4), (2, 5)]}\n"
     ]
    }
   ],
   "source": [
    "# 10. Join Tuples if similar initial element\n",
    "tuples = [(1, 2), (1, 3), (2, 4), (2, 5)]\n",
    "grouped = {}\n",
    "for t in tuples:\n",
    "    if t[0] not in grouped:\n",
    "        grouped[t[0]] = []\n",
    "    grouped[t[0]].append(t)\n",
    "print(\"Grouped tuples:\", grouped)\n"
   ]
  },
  {
   "cell_type": "code",
   "execution_count": 14,
   "id": "ef1cc0eb-aa72-4859-b177-e63e8a6944fc",
   "metadata": {},
   "outputs": [
    {
     "name": "stdout",
     "output_type": "stream",
     "text": [
      "All pair combinations: [(1, 3), (1, 4), (2, 3), (2, 4)]\n"
     ]
    }
   ],
   "source": [
    "# 11. All pair combinations of 2 tuples\n",
    "tuple1 = (1, 2)\n",
    "tuple2 = (3, 4)\n",
    "combinations = [(x, y) for x in tuple1 for y in tuple2]\n",
    "print(\"All pair combinations:\", combinations)\n"
   ]
  },
  {
   "cell_type": "code",
   "execution_count": 15,
   "id": "ba448c57-00c3-43e5-aa9e-7cbe5d5a4a27",
   "metadata": {},
   "outputs": [
    {
     "name": "stdout",
     "output_type": "stream",
     "text": [
      "List after removing length K tuples: [(1, 2), (6, 7)]\n"
     ]
    }
   ],
   "source": [
    "# 12. Remove Tuples of Length K\n",
    "my_list = [(1, 2), (3, 4, 5), (6, 7)]\n",
    "K = 3\n",
    "filtered_list = [t for t in my_list if len(t) != K]\n",
    "print(\"List after removing length K tuples:\", filtered_list)\n"
   ]
  },
  {
   "cell_type": "code",
   "execution_count": 16,
   "id": "0aee5f36-99a7-4275-a2b0-f5e110689a2d",
   "metadata": {},
   "outputs": [
    {
     "name": "stdout",
     "output_type": "stream",
     "text": [
      "List after removing all-None tuples: [(1, 2), (None, 3)]\n"
     ]
    }
   ],
   "source": [
    "# 13. Remove Tuples from the List having every element as None\n",
    "my_list = [(None, None), (1, 2), (None, 3)]\n",
    "filtered_list = [t for t in my_list if not all(x is None for x in t)]\n",
    "print(\"List after removing all-None tuples:\", filtered_list)\n"
   ]
  },
  {
   "cell_type": "code",
   "execution_count": 17,
   "id": "82d0e2d2-4ce7-4ba5-a3d6-5b563638893c",
   "metadata": {},
   "outputs": [
    {
     "name": "stdout",
     "output_type": "stream",
     "text": [
      "Sorted by second item: [(5, 1), (3, 2), (1, 5)]\n"
     ]
    }
   ],
   "source": [
    "# 14. Sort a list of tuples by second Item\n",
    "my_list = [(1, 5), (3, 2), (5, 1)]\n",
    "sorted_list = sorted(my_list, key=lambda x: x[1])\n",
    "print(\"Sorted by second item:\", sorted_list)\n"
   ]
  },
  {
   "cell_type": "code",
   "execution_count": 18,
   "id": "df735a14-ba8a-4140-a47b-196fdfedcdc5",
   "metadata": {},
   "outputs": [
    {
     "name": "stdout",
     "output_type": "stream",
     "text": [
      "Sorted by total digits: [(7, 89), (12, 34), (123, 456)]\n"
     ]
    }
   ],
   "source": [
    "# 15. Sort Tuples by Total digits\n",
    "my_list = [(123, 456), (12, 34), (7, 89)]\n",
    "sorted_list = sorted(my_list, key=lambda x: sum(len(str(abs(i))) for i in x))\n",
    "print(\"Sorted by total digits:\", sorted_list)\n"
   ]
  },
  {
   "cell_type": "code",
   "execution_count": 19,
   "id": "50ed46fd-3f60-45b2-ad15-803e5ad2a119",
   "metadata": {},
   "outputs": [
    {
     "name": "stdout",
     "output_type": "stream",
     "text": [
      "Element frequencies: Counter({3: 3, 2: 2, 1: 1, 4: 1})\n"
     ]
    }
   ],
   "source": [
    "# 16. Elements frequency in Tuple\n",
    "my_tuple = (1, 2, 2, 3, 3, 3, 4)\n",
    "from collections import Counter\n",
    "frequency = Counter(my_tuple)\n",
    "print(\"Element frequencies:\", frequency)\n"
   ]
  },
  {
   "cell_type": "code",
   "execution_count": 33,
   "id": "36b78367-29f1-4b4a-9ace-aa928badd485",
   "metadata": {},
   "outputs": [
    {
     "name": "stdout",
     "output_type": "stream",
     "text": [
      "Filtered list with tuple lengths in range: [(1, 2), (3, 4, 5), (6, 7)]\n"
     ]
    }
   ],
   "source": [
    "# 17. Filter Range Length Tuples\n",
    "my_list = [(1, 2), (3, 4, 5), (6, 7)]\n",
    "min_len, max_len = 2, 3\n",
    "filtered_list = [t for t in my_list if min_len <= len(t) <= max_len]\n",
    "print(\"Filtered list with tuple lengths in range:\", filtered_list)\n"
   ]
  },
  {
   "cell_type": "code",
   "execution_count": 21,
   "id": "1d9569cd-685f-43f2-899e-f908f155b2fc",
   "metadata": {},
   "outputs": [
    {
     "name": "stdout",
     "output_type": "stream",
     "text": [
      "Frequency of tuples: Counter({(1, 2): 2, (3, 4): 1, (5, 6): 1})\n"
     ]
    }
   ],
   "source": [
    "# 18. Assign Frequency to Tuples\n",
    "my_list = [(1, 2), (3, 4), (1, 2), (5, 6)]\n",
    "from collections import Counter\n",
    "frequency = Counter(my_list)\n",
    "print(\"Frequency of tuples:\", frequency)\n"
   ]
  },
  {
   "cell_type": "code",
   "execution_count": 22,
   "id": "17cb2270-b72d-46cb-adf4-03b98c1c0aeb",
   "metadata": {},
   "outputs": [
    {
     "name": "stdout",
     "output_type": "stream",
     "text": [
      "Records with value at K index: [(1, 2)]\n"
     ]
    }
   ],
   "source": [
    "# 19. Records with Value at K index\n",
    "my_list = [(1, 2), (3, 4), (5, 6)]\n",
    "K = 1\n",
    "filtered_list = [t for t in my_list if t[K] == 2]\n",
    "print(\"Records with value at K index:\", filtered_list)\n"
   ]
  },
  {
   "cell_type": "code",
   "execution_count": 23,
   "id": "a2259ca7-c07e-417e-b780-5c5bc4e9c31f",
   "metadata": {},
   "outputs": [
    {
     "name": "stdout",
     "output_type": "stream",
     "text": [
      "Is tuple distinct? True\n"
     ]
    }
   ],
   "source": [
    "# 20. Test if tuple is distinct\n",
    "my_tuple = (1, 2, 3)\n",
    "is_distinct = len(my_tuple) == len(set(my_tuple))\n",
    "print(\"Is tuple distinct?\", is_distinct)\n"
   ]
  },
  {
   "cell_type": "code",
   "execution_count": 34,
   "id": "43491b04-f81c-4143-a5bb-60c3e7d67100",
   "metadata": {},
   "outputs": [
    {
     "name": "stdout",
     "output_type": "stream",
     "text": [
      "Tuples with all elements divisible by K: [(10, 20), (15, 25), (30, 40)]\n"
     ]
    }
   ],
   "source": [
    "# 21. Find tuples which have all elements divisible by K\n",
    "my_list = [(10, 20), (15, 25), (30, 40)]\n",
    "K = 5\n",
    "result = [t for t in my_list if all(x % K == 0 for x in t)]\n",
    "print(\"Tuples with all elements divisible by K:\", result)\n"
   ]
  },
  {
   "cell_type": "code",
   "execution_count": 25,
   "id": "150f06a3-4713-4095-9aba-2277bfcde849",
   "metadata": {},
   "outputs": [
    {
     "name": "stdout",
     "output_type": "stream",
     "text": [
      "Tuples with positive elements: [(1, 2)]\n"
     ]
    }
   ],
   "source": [
    "# 22. Find Tuples with positive elements\n",
    "my_list = [(1, 2), (-3, 4), (5, -6)]\n",
    "positive_tuples = [t for t in my_list if all(x > 0 for x in t)]\n",
    "print(\"Tuples with positive elements:\", positive_tuples)\n"
   ]
  },
  {
   "cell_type": "code",
   "execution_count": 26,
   "id": "4c40691d-875d-462e-a4a2-5a7ec5c89fe5",
   "metadata": {},
   "outputs": [
    {
     "name": "stdout",
     "output_type": "stream",
     "text": [
      "Tuple occurrences: Counter({(1, 2): 2, (3, 4): 1})\n"
     ]
    }
   ],
   "source": [
    "# 23. Count tuples occurrence in list of tuples\n",
    "my_list = [(1, 2), (3, 4), (1, 2)]\n",
    "from collections import Counter\n",
    "tuple_count = Counter(my_list)\n",
    "print(\"Tuple occurrences:\", tuple_count)\n"
   ]
  },
  {
   "cell_type": "code",
   "execution_count": 27,
   "id": "19db3c1b-4694-46cc-9510-abe5fe47c33a",
   "metadata": {},
   "outputs": [
    {
     "name": "stdout",
     "output_type": "stream",
     "text": [
      "Tuple without duplicates: (1, 2, 3, 4)\n"
     ]
    }
   ],
   "source": [
    "# 24. Removing duplicates from tuple\n",
    "my_tuple = (1, 2, 3, 1, 4, 2)\n",
    "unique_tuple = tuple(set(my_tuple))\n",
    "print(\"Tuple without duplicates:\", unique_tuple)\n"
   ]
  },
  {
   "cell_type": "code",
   "execution_count": 28,
   "id": "0292e2eb-2971-4682-b4ed-acdbc1af8908",
   "metadata": {},
   "outputs": [
    {
     "name": "stdout",
     "output_type": "stream",
     "text": [
      "List with unique tuples: [(1, 2), (3, 4)]\n"
     ]
    }
   ],
   "source": [
    "# 25. Remove duplicate lists in tuples (Preserving Order)\n",
    "my_list = [(1, 2), (3, 4), (1, 2)]\n",
    "unique_list = []\n",
    "for t in my_list:\n",
    "    if t not in unique_list:\n",
    "        unique_list.append(t)\n",
    "print(\"List with unique tuples:\", unique_list)\n"
   ]
  },
  {
   "cell_type": "code",
   "execution_count": 35,
   "id": "bca23727-815f-4ea5-b999-436abf5f8270",
   "metadata": {},
   "outputs": [
    {
     "name": "stdout",
     "output_type": "stream",
     "text": [
      "Extracted digits: [123, 456, 789, 101]\n"
     ]
    }
   ],
   "source": [
    "# 26. Extract digits from Tuple list\n",
    "my_list = [(123, 456), (789, 101)]\n",
    "extracted_digits = [int(''.join(filter(str.isdigit, str(x)))) for tup in my_list for x in tup]\n",
    "print(\"Extracted digits:\", extracted_digits)\n"
   ]
  },
  {
   "cell_type": "code",
   "execution_count": 36,
   "id": "d103c7fa-24af-4f47-9c93-c4844624df45",
   "metadata": {},
   "outputs": [
    {
     "name": "stdout",
     "output_type": "stream",
     "text": [
      "Cross pairs: [(1, 4), (1, 6), (3, 6)]\n"
     ]
    }
   ],
   "source": [
    "# 27. Cross Pairing in Tuple List\n",
    "my_list = [(1, 2), (3, 4), (5, 6)]\n",
    "cross_pairs = [(x, y) for i, (x, _) in enumerate(my_list) for _, y in my_list[i+1:]]\n",
    "print(\"Cross pairs:\", cross_pairs)\n"
   ]
  },
  {
   "cell_type": "code",
   "execution_count": 37,
   "id": "3bb9aa4d-3350-4fa0-b62c-da64775d4acd",
   "metadata": {},
   "outputs": [
    {
     "name": "stdout",
     "output_type": "stream",
     "text": [
      "Consecutive Kth column differences: [1, 1]\n"
     ]
    }
   ],
   "source": [
    "# 28. Consecutive Kth column Difference in Tuple List\n",
    "my_list = [(1, 2, 3), (4, 5, 6), (7, 8, 9)]\n",
    "K = 1\n",
    "differences = [row[K] - row[K-1] for row in my_list[1:]]\n",
    "print(\"Consecutive Kth column differences:\", differences)\n"
   ]
  },
  {
   "cell_type": "code",
   "execution_count": 38,
   "id": "96c479be-f8a2-4547-9d6f-296dcf7db93b",
   "metadata": {},
   "outputs": [
    {
     "name": "stdout",
     "output_type": "stream",
     "text": [
      "Product of Kth column (1): 80\n"
     ]
    }
   ],
   "source": [
    "# 29. Kth Column Product in Tuple List\n",
    "my_list = [(1, 2, 3), (4, 5, 6), (7, 8, 9)]\n",
    "K = 1\n",
    "product = 1\n",
    "for row in my_list:\n",
    "    product *= row[K]\n",
    "print(f\"Product of Kth column ({K}):\", product)\n"
   ]
  },
  {
   "cell_type": "code",
   "execution_count": 39,
   "id": "36b47a55-ba84-4d2e-b402-030e9a76b256",
   "metadata": {},
   "outputs": [
    {
     "name": "stdout",
     "output_type": "stream",
     "text": [
      "(1, 2, 3, 4, 5, 6)\n"
     ]
    }
   ],
   "source": [
    "# 30. Flatten tuple of List to tuple\n",
    "tuple_list = [(1, 2), (3, 4), (5, 6)]\n",
    "flattened = tuple(x for t in tuple_list for x in t)\n",
    "print(flattened)\n"
   ]
  },
  {
   "cell_type": "code",
   "execution_count": 40,
   "id": "b6cad013-e146-4d8d-bab4-1562a1fd69b6",
   "metadata": {},
   "outputs": [
    {
     "name": "stdout",
     "output_type": "stream",
     "text": [
      "abcdef\n"
     ]
    }
   ],
   "source": [
    "# 31. Flatten Tuples List to String\n",
    "tuple_list = [(\"a\", \"b\"), (\"c\", \"d\"), (\"e\", \"f\")]\n",
    "flattened_string = ''.join(''.join(t) for t in tuple_list)\n",
    "print(flattened_string)\n"
   ]
  },
  {
   "cell_type": "code",
   "execution_count": 41,
   "id": "f4db436d-afd4-4028-816a-9891ef26dec5",
   "metadata": {},
   "outputs": [
    {
     "name": "stdout",
     "output_type": "stream",
     "text": [
      "[('apple', 2), ('banana', 1), ('cherry', 3)]\n"
     ]
    }
   ],
   "source": [
    "# 32. Sort a list of tuples alphabetically\n",
    "tuple_list = [(\"apple\", 2), (\"banana\", 1), (\"cherry\", 3)]\n",
    "sorted_list = sorted(tuple_list)\n",
    "print(sorted_list)\n"
   ]
  },
  {
   "cell_type": "code",
   "execution_count": 42,
   "id": "2291146b-76e8-48f2-a6c2-0f5feb453a2d",
   "metadata": {},
   "outputs": [
    {
     "name": "stdout",
     "output_type": "stream",
     "text": [
      "[(2, 4), (4, 6), (6, 8), (4, 6), (6, 8), (8, 10), (6, 8), (8, 10), (10, 12)]\n"
     ]
    }
   ],
   "source": [
    "# 33. Combinations of sum with tuples in tuple list\n",
    "tuple_list = [(1, 2), (3, 4), (5, 6)]\n",
    "combinations_sum = [(a[0] + b[0], a[1] + b[1]) for a in tuple_list for b in tuple_list]\n",
    "print(combinations_sum)\n"
   ]
  },
  {
   "cell_type": "code",
   "execution_count": null,
   "id": "437e1738-e4e5-4806-a0f9-416cd57841c2",
   "metadata": {},
   "outputs": [],
   "source": [
    "# 34. Custom sorting in list of tuples\n",
    "tuple_list = [(1, 2), (3, 4), (5, 6)]\n",
    "sorted_list = sorted(tuple_list, key=lambda x: x[1])\n",
    "print(sorted_list)\n"
   ]
  }
 ],
 "metadata": {
  "kernelspec": {
   "display_name": "Python 3 (ipykernel)",
   "language": "python",
   "name": "python3"
  },
  "language_info": {
   "codemirror_mode": {
    "name": "ipython",
    "version": 3
   },
   "file_extension": ".py",
   "mimetype": "text/x-python",
   "name": "python",
   "nbconvert_exporter": "python",
   "pygments_lexer": "ipython3",
   "version": "3.12.7"
  }
 },
 "nbformat": 4,
 "nbformat_minor": 5
}
